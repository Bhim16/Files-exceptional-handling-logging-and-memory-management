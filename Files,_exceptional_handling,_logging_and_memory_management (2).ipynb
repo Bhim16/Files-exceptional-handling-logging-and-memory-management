{
  "cells": [
    {
      "cell_type": "markdown",
      "metadata": {
        "id": "9Moekq_UE-sH"
      },
      "source": [
        "# Files, exceptional handling,\n",
        "# logging and memory management Questions"
      ]
    },
    {
      "cell_type": "markdown",
      "metadata": {
        "id": "HkvzsDkEFtvu"
      },
      "source": [
        "# Assignment Questions"
      ]
    },
    {
      "cell_type": "markdown",
      "metadata": {
        "id": "cljwoe80FDWD"
      },
      "source": [
        "# What is the difference between interpreted and compiled languages\n",
        "\n",
        "ANS The key difference between compiled and interpreted programming languages lies in how their code is translated and executed. Compiled languages translate the entire program into machine code or bytecode before execution, while interpreted languages translate and execute code line by line.\n",
        "\n"
      ]
    },
    {
      "cell_type": "markdown",
      "metadata": {
        "id": "NJ9hfUUxFkdk"
      },
      "source": [
        "# What is exception handling in Python\n",
        "ANS  The Python exception handling is the process of responding to errors that occur during program execution. It allows programs to continue running smoothly and avoid crashing"
      ]
    },
    {
      "cell_type": "markdown",
      "metadata": {
        "id": "ckwU8x1BFnBW"
      },
      "source": [
        "# what is the purpose of the finally block in exception handling\n",
        "ans The finally block ensures that critical cleanup actions and resource management tasks are executed regardless of whether an exception occurred or not."
      ]
    },
    {
      "cell_type": "markdown",
      "metadata": {
        "id": "aUEE6537FnF7"
      },
      "source": [
        "# What is logging in Python\n",
        "ans Python logging is a module that allows you to track events that occur while your program is running."
      ]
    },
    {
      "cell_type": "markdown",
      "metadata": {
        "id": "h8yWDKalFnIW"
      },
      "source": [
        "# What is the significance of the __del__ method in Python\n",
        "ans  The __del__() method is referred to as a destructor method. It is called after an objects garbage collection occurs, which happens after all references to the item have been destroyed."
      ]
    },
    {
      "cell_type": "markdown",
      "metadata": {
        "id": "iBqLIYdEFnK1"
      },
      "source": [
        "# What is the difference between import and from ... import in Python\n",
        "ans The difference between import and from import in Python is import imports an entire code library. from import imports a specific member or members of the library."
      ]
    },
    {
      "cell_type": "markdown",
      "metadata": {
        "id": "RhfRn6GKFnNL"
      },
      "source": [
        "# How can you handle multiple exceptions in Python\n",
        "ans Python allows you to catch multiple exceptions in a single 'except' block by specifying them as a tuple."
      ]
    },
    {
      "cell_type": "markdown",
      "metadata": {
        "id": "TjIJ2D_sFnPm"
      },
      "source": [
        "# What is the purpose of the with statement when handling files in Python\n",
        "ans The purpose of the with statement in Python file handling is to streamline resource management ensuring files are opened and closed automatically and that the code within the with block executes even if exceptions are raised. This simplifies file operations and reduces the risk of resource leaks."
      ]
    },
    {
      "cell_type": "markdown",
      "metadata": {
        "id": "FqNtQCjnFnSG"
      },
      "source": [
        "# What is the difference between multithreading and multiprocessing\n",
        "ans definition Multithreading\n",
        "\n",
        "1.The single program to run multiple threads concurrently within its memory space.\n",
        "2.Threads can switch execution rapidly giving the illusion of parallel execution in Concurrency.\n",
        "3.Threads within a process share memory and resources making communication easier with shared memory.\n",
        "4.Tasks that involve waiting for I/O. where one thread can wait for I/O without blocking other threads for Ideal.\n",
        "\n",
        "\n",
        "\n",
        "Definition Multiprocessing.\n",
        "\n",
        "1. The single program to run multiple processes concurrently, where each process has its own memory space and resources.\n",
        "2.True parallelism is achieved by running processes on multiple CPU core.\n",
        "3.The Separate Memory Processes have their own memory space requiring explicit communication e.g. through pipes or shared memory.\n",
        "4. The ideal for  CPU bound tasks where multiple cores can be utilized to improve performance.\n"
      ]
    },
    {
      "cell_type": "markdown",
      "metadata": {
        "id": "KNSY3ErDFnUn"
      },
      "source": [
        "# What are the advantages of using logging in a program\n",
        "ans 1. Troubleshooting\tLogs help assess root causes and define remediations.\n",
        "2.Logs identify potential performance issues.\n",
        "3.Logs provide insight into security risks.\n",
        "4.Logs help demonstrate compliance practices.\n"
      ]
    },
    {
      "cell_type": "markdown",
      "metadata": {
        "id": "ME6CpWllFnXU"
      },
      "source": [
        "# What is memory management in Python\n",
        "ans.  The memory management is the process of allocating and deallocating memory for objects and data structures during program execution. Python handles this automatically meaning developers generally dont need to manually allocate or free memory. This is done through a private head where all Python objects are stored and the Python memory manager handles allocation and deallocation."
      ]
    },
    {
      "cell_type": "markdown",
      "metadata": {
        "id": "wJu5-CevFnZw"
      },
      "source": [
        "# What are the basic steps involved in exception handling in Python\n",
        "ans. Exception handling in Python involves using try, except, else, and finally blocks to gracefully handle errors that might occur during program execution. The try block contains code that might raise an exception."
      ]
    },
    {
      "cell_type": "markdown",
      "metadata": {
        "id": "GGyy-ZKDFncN"
      },
      "source": [
        "# Why is memory management important in Python\n",
        "ans The  Python use automatic memory management primarily relying on a private heap and object-specific allocators ensuring efficient allocation and deallocation of memory for objects. This process is managed by Python internal memory manager which leverages reference counting and garbage collection to track and reclaim unused memory."
      ]
    },
    {
      "cell_type": "markdown",
      "metadata": {
        "id": "3BWHGr6PFne5"
      },
      "source": [
        "# What is the role of try and except in exception handling"
      ]
    },
    {
      "cell_type": "markdown",
      "metadata": {
        "id": "SsLxCP1pFnhg"
      },
      "source": [
        "# How does Python's garbage collection system work\n",
        "ans. The garbage collector in Python locates and releases memory occupied by objects that can no longer be accessed or referenced by the program's code."
      ]
    },
    {
      "cell_type": "markdown",
      "metadata": {
        "id": "KE30_3E3Fnj5"
      },
      "source": [
        "# What is the purpose of the else block in exception handling\n",
        "ans The else block in exception handling, often used in try...except...else structures, executes when no exceptions are raised within the try block. It's used to perform actions that should only run when the try block executes successfully, providing a way to handle positive outcomes after a potentially risky operatio"
      ]
    },
    {
      "cell_type": "markdown",
      "metadata": {
        "id": "PsdrkXbQFnmV"
      },
      "source": [
        "#  What are the common logging levels in Python\n",
        "ans. Python logging supports multiple levels of severity, such as DEBUG , INFO , WARNING , ERROR , and CRITICAL , allowing you to categorize and filter log messages effectively."
      ]
    },
    {
      "cell_type": "markdown",
      "metadata": {
        "id": "gQA2ZWeoFno4"
      },
      "source": [
        "#  What is the difference between os.fork() and multiprocessing in Python\n",
        "ans fork() method creates a copy of the process that has called it. Executing os. fork() creates two processes: A parent process and a child process. It returns 0 in the child process and the child process id in the parent process. Use os.\n",
        "\n",
        "Multiprocessing in Python allows you to run multiple parts of your program concurrently utilizing multiple CPU cores to speed up processing especially for computationally intensive tasks. It overcomes the limitations of multithreading which can be restricted by the Global Interpreter Lock.\n"
      ]
    },
    {
      "cell_type": "markdown",
      "metadata": {
        "id": "tHZpllj_FnuB"
      },
      "source": [
        "# What is the importance of closing a file in Python\n",
        "ans Closing files in Python is an essential practice that helps maintain data integrity prevent resource leaks and ensure the reliability of your applications.\n"
      ]
    },
    {
      "cell_type": "markdown",
      "metadata": {
        "id": "LLDceotfFnwZ"
      },
      "source": [
        "# What is the difference between file.read() and file.readline() in Python\n",
        "ans 1.The read() function reads the entire file and returns it as a string.\n",
        "2.The readline() function reads one line at a time from the file.\n"
      ]
    },
    {
      "cell_type": "markdown",
      "metadata": {
        "id": "Ql7GFoWQFny8"
      },
      "source": [
        "# What is the logging module in Python used for.\n",
        "ans The logging module in Python is a tool used to record events that occur during the execution of a program. It a powerful way to track errors warnings and informational messages which is helpful for debugging troubleshooting, and monitoring your application"
      ]
    },
    {
      "cell_type": "markdown",
      "metadata": {
        "id": "Eu2ZYr-GFn1m"
      },
      "source": [
        "#  What is the os module in Python used for in file handling"
      ]
    },
    {
      "cell_type": "markdown",
      "metadata": {
        "id": "0S53AWO5Fn4E"
      },
      "source": [
        "# What are the challenges associated with memory management in Python\n",
        "ans Python uses a combination of reference counting and garbage collection for memory management."
      ]
    },
    {
      "cell_type": "markdown",
      "metadata": {
        "id": "h_cTZb5XFn6w"
      },
      "source": [
        "# How do you raise an exception manually in Python\n",
        "ans. he Python interpreter raises an exception each time it detects an error in an expression or statement."
      ]
    },
    {
      "cell_type": "markdown",
      "metadata": {
        "id": "nwMvI4EZFn9L"
      },
      "source": [
        "# Why is it important to use multithreading in certain applications.\n",
        "ans. Multithreading is important in applications to improve performance responsiveness and resource utilization especially in scenarios involving parallel execution or handling multiple requests."
      ]
    },
    {
      "cell_type": "markdown",
      "metadata": {
        "id": "u7ebw_aXFn_v"
      },
      "source": [
        "# Practical Questions"
      ]
    },
    {
      "cell_type": "code",
      "execution_count": null,
      "metadata": {
        "id": "OOmpm0ktHgik"
      },
      "outputs": [],
      "source": [
        " #How can you open a file for writing in Python and write a string to it.\n",
        "\n",
        "with open('my_file.txt', 'w') as file:\n",
        "\n",
        "    file.write(\"This is the first line.\\n\")\n",
        "    file.write(\"This is the second line.\\n\")\n",
        "\n",
        "\n",
        "with open('my_file.txt', 'a') as file:\n",
        "  file.write(\"This is an appended line.\\n\")"
      ]
    },
    {
      "cell_type": "code",
      "execution_count": null,
      "metadata": {
        "id": "AewP-iQIHgtH"
      },
      "outputs": [],
      "source": [
        "# Write a Python program to read the contents of a file and print each line\n",
        "def print_file_contents(filepath):\n",
        "    \"\"\"Reads a file and prints each line.\"\"\"\n",
        "    try:\n",
        "        with open(filepath, 'r') as file:\n",
        "            for line in file:\n",
        "                print(line, end='')\n",
        "    except FileNotFoundError:\n",
        "        print(f\"Error: File '{filepath}' not found.\")\n",
        "    except Exception as e:\n",
        "        print(f\"An error occurred: {e}\")\n",
        "\n",
        "\n"
      ]
    },
    {
      "cell_type": "code",
      "execution_count": null,
      "metadata": {
        "colab": {
          "base_uri": "https://localhost:8080/"
        },
        "id": "DnzENkQBr6ql",
        "outputId": "e7c840e2-4fe5-4ade-fce0-b87a09c8b17d"
      },
      "outputs": [
        {
          "name": "stdout",
          "output_type": "stream",
          "text": [
            "Error: File 'filename.txt' not found.\n"
          ]
        }
      ],
      "source": [
        "print_file_contents('filename.txt')"
      ]
    },
    {
      "cell_type": "code",
      "execution_count": null,
      "metadata": {
        "id": "U6YjRvm1Hgve"
      },
      "outputs": [],
      "source": [
        "# How would you handle a case where the file doesn't exist while trying to open it for reading\n",
        "def print_file_contents(filepath):\n",
        "    \"\"\"Reads a file and prints each line, handling file not found.\"\"\"\n",
        "    try:\n",
        "        with open(filepath, 'r') as file:\n",
        "            for line in file:\n",
        "                print(line, end='')\n",
        "    except FileNotFoundError:\n",
        "        print(f\"Error: File '{filepath}' not found.\")\n",
        "    except Exception as e:\n",
        "        print(f\"An error occurred: {e}\")"
      ]
    },
    {
      "cell_type": "code",
      "execution_count": null,
      "metadata": {
        "id": "uTiFF5I_Hgx4"
      },
      "outputs": [],
      "source": [
        "# Write a Python script that reads from one file and writes its content to another file\n",
        "\n",
        "def copy_file(source_file, destination_file):\n",
        "    \"\"\"Reads from one file and writes its content to another file.\"\"\"\n",
        "    try:\n",
        "        with open(source_file, 'r') as infile, open(destination_file, 'w') as outfile:\n",
        "            for line in infile:\n",
        "                outfile.write(line)\n",
        "    except FileNotFoundError:\n",
        "        print(f\"Error: Source file '{source_file}' not found.\")\n",
        "    except Exception as e:\n",
        "        print(f\"An error occurred: {e}\")\n",
        "\n"
      ]
    },
    {
      "cell_type": "code",
      "execution_count": null,
      "metadata": {
        "colab": {
          "base_uri": "https://localhost:8080/"
        },
        "id": "dsdS-SEArxv5",
        "outputId": "c01ff5a6-80ad-45c0-a0db-26de2d10476c"
      },
      "outputs": [
        {
          "name": "stdout",
          "output_type": "stream",
          "text": [
            "Error: Source file 'filename.txt' not found.\n"
          ]
        }
      ],
      "source": [
        "\n",
        "copy_file('filename.txt', 'new_filename.txt')"
      ]
    },
    {
      "cell_type": "code",
      "execution_count": null,
      "metadata": {
        "id": "oCFoQItJHg0d"
      },
      "outputs": [],
      "source": [
        "# How would you catch and handle division by zero error in Python\n",
        "def safe_division(numerator, denominator):\n",
        "    try:\n",
        "        result = numerator / denominator\n",
        "        return result\n",
        "    except ZeroDivisionError:\n",
        "        print(\"Error Division by zero\")\n",
        "        return None\n",
        "\n"
      ]
    },
    {
      "cell_type": "code",
      "execution_count": null,
      "metadata": {
        "colab": {
          "base_uri": "https://localhost:8080/"
        },
        "id": "8Iir7Gz-sQac",
        "outputId": "08f4f4fe-b5e6-453f-85f2-afa832932bf6"
      },
      "outputs": [
        {
          "name": "stdout",
          "output_type": "stream",
          "text": [
            "5.0\n"
          ]
        }
      ],
      "source": [
        "result1 = safe_division(10, 2)\n",
        "print(result1)"
      ]
    },
    {
      "cell_type": "code",
      "execution_count": null,
      "metadata": {
        "colab": {
          "base_uri": "https://localhost:8080/"
        },
        "id": "WKzq-uzasSt2",
        "outputId": "498a28e3-5113-4174-f75d-93ccca9f02c4"
      },
      "outputs": [
        {
          "name": "stdout",
          "output_type": "stream",
          "text": [
            "Error Division by zero\n",
            "None\n"
          ]
        }
      ],
      "source": [
        "result2 = safe_division(5, 0)\n",
        "print(result2)"
      ]
    },
    {
      "cell_type": "code",
      "execution_count": null,
      "metadata": {
        "colab": {
          "base_uri": "https://localhost:8080/"
        },
        "id": "d0A-myGvHg2k",
        "outputId": "080555aa-34b9-4a9c-88da-b0993998ae62"
      },
      "outputs": [
        {
          "name": "stderr",
          "output_type": "stream",
          "text": [
            "ERROR:root:Division by zero occurred\n"
          ]
        },
        {
          "name": "stdout",
          "output_type": "stream",
          "text": [
            "5.0\n",
            "None\n"
          ]
        }
      ],
      "source": [
        "#Write a Python program that logs an error message to a log file when a division by zero exception occurs\n",
        "import logging\n",
        "\n",
        "def safe_division(numerator, denominator):\n",
        "    try:\n",
        "        result = numerator / denominator\n",
        "        return result\n",
        "    except ZeroDivisionError:\n",
        "\n",
        "        logging.basicConfig(filename='error.log', level=logging.ERROR, format='%(asctime)s - %(levelname)s - %(message)s')\n",
        "        logging.error(\"Division by zero occurred\")\n",
        "        return None\n",
        "\n",
        "result1 = safe_division(10, 2)\n",
        "print(result1)\n",
        "\n",
        "result2 = safe_division(5, 0)\n",
        "print(result2)\n"
      ]
    },
    {
      "cell_type": "code",
      "execution_count": null,
      "metadata": {
        "colab": {
          "base_uri": "https://localhost:8080/",
          "height": 109
        },
        "id": "cr16SNaJHg5I",
        "outputId": "3ff3fdff-4cfa-48c0-fc76-2a39f58b7f84"
      },
      "outputs": [
        {
          "ename": "SyntaxError",
          "evalue": "invalid syntax. Perhaps you forgot a comma? (<ipython-input-2-e6e7dbc73894>, line 8)",
          "output_type": "error",
          "traceback": [
            "\u001b[0;36m  File \u001b[0;32m\"<ipython-input-2-e6e7dbc73894>\"\u001b[0;36m, line \u001b[0;32m8\u001b[0m\n\u001b[0;31m    filename='my_app.log',  e\u001b[0m\n\u001b[0m                            ^\u001b[0m\n\u001b[0;31mSyntaxError\u001b[0m\u001b[0;31m:\u001b[0m invalid syntax. Perhaps you forgot a comma?\n"
          ]
        }
      ],
      "source": [
        "# How do you log information at different levels (INFO, ERROR, WARNING) in Python using the logging module\n",
        "\n",
        "import logging\n",
        "\n",
        "\n",
        "logging.basicConfig(level=logging.DEBUG,\n",
        "                    format='%(asctime)s - %(name)s - %(levelname)s - %(message)s',\n",
        "                    filename='my_app.log',  e\n",
        "                    filemode='w')\n",
        "\n",
        "logger = logging.getLogger(__name__)\n",
        "\n",
        "\n",
        "def my_function():\n",
        "    logger.info(\"This is an informational message.\")\n",
        "    logger.warning(\"This is a warning message.\")\n",
        "    logger.error(\"This is an error message.\")\n",
        "    try:\n",
        "        result = 10 / 0\n",
        "    except ZeroDivisionError:\n",
        "        logger.exception(\"An exception occurred:\")\n",
        "\n",
        "my_function()"
      ]
    },
    {
      "cell_type": "code",
      "execution_count": null,
      "metadata": {
        "colab": {
          "base_uri": "https://localhost:8080/"
        },
        "id": "WUKgrI_mHg7e",
        "outputId": "d933e530-4251-4d68-846b-2aa294eb6ec6"
      },
      "outputs": [
        {
          "name": "stderr",
          "output_type": "stream",
          "text": [
            "ERROR:root:Error: File 'my_file.txt' not found.\n",
            "ERROR:root:Error: File 'nonexistent_file.txt' not found.\n"
          ]
        }
      ],
      "source": [
        "#F Write a program to handle a file opening error using exception handling\n",
        "import logging\n",
        "\n",
        "def handle_file_errors(filepath):\n",
        "    try:\n",
        "        with open(filepath, 'r') as file:\n",
        "            contents = file.read()\n",
        "            print(contents)\n",
        "    except FileNotFoundError:\n",
        "        logging.error(f\"Error: File '{filepath}' not found.\")\n",
        "    except Exception as e:\n",
        "        logging.exception(f\"An unexpected error occurred: {e}\")\n",
        "\n",
        "handle_file_errors(\"my_file.txt\")\n",
        "handle_file_errors(\"nonexistent_file.txt\")\n"
      ]
    },
    {
      "cell_type": "code",
      "execution_count": null,
      "metadata": {
        "id": "8u8D6F5sHg97"
      },
      "outputs": [],
      "source": [
        "#How can you read a file line by line and store its content in a list in Python\n",
        "def read_file_into_list(filepath):\n",
        "    \"\"\"Reads a file line by line and stores its content in a list.\n",
        "\n",
        "    Args:\n",
        "        filepath: The path to the file.\n",
        "\n",
        "    Returns:\n",
        "        A list of strings, where each string is a line from the file.\n",
        "        Returns an empty list if the file is not found or an error occurs.\n",
        "    \"\"\"\n",
        "    try:\n",
        "        with open(filepath, 'r') as file:\n",
        "            lines = file.readlines()\n",
        "            return lines\n",
        "    except FileNotFoundError:\n",
        "        print(f\"Error: File '{filepath}' not found.\")\n",
        "        return []\n",
        "    except Exception as e:\n",
        "        print(f\"An error occurred: {e}\")\n",
        "        return []"
      ]
    },
    {
      "cell_type": "code",
      "execution_count": null,
      "metadata": {
        "colab": {
          "base_uri": "https://localhost:8080/",
          "height": 109
        },
        "id": "P-MJfDFKeR-C",
        "outputId": "0275d42e-d33d-4754-f0c8-b79eef77e227"
      },
      "outputs": [
        {
          "ename": "IndentationError",
          "evalue": "expected an indented block after 'if' statement on line 2 (<ipython-input-4-c56a5c38bdbb>, line 3)",
          "output_type": "error",
          "traceback": [
            "\u001b[0;36m  File \u001b[0;32m\"<ipython-input-4-c56a5c38bdbb>\"\u001b[0;36m, line \u001b[0;32m3\u001b[0m\n\u001b[0;31m    file_content\u001b[0m\n\u001b[0m    ^\u001b[0m\n\u001b[0;31mIndentationError\u001b[0m\u001b[0;31m:\u001b[0m expected an indented block after 'if' statement on line 2\n"
          ]
        }
      ],
      "source": [
        "file_content = read_file_into_list('filename.txt')\n",
        "if file_content:\n",
        "file_content"
      ]
    },
    {
      "cell_type": "code",
      "execution_count": null,
      "metadata": {
        "id": "BfdQ5U2qHhAK"
      },
      "outputs": [],
      "source": [
        "# How can you append data to an existing file in Python\n",
        "\n",
        "def append_to_file(filepath, data):\n",
        "    \"\"\"Appends data to an existing file. Creates the file if it doesn't exist.\"\"\"\n",
        "    try:\n",
        "        with open(filepath, 'a') as file:\n",
        "            file.write(data)\n",
        "    except Exception as e:\n",
        "        print(f\"An error occurred: {e}\")"
      ]
    },
    {
      "cell_type": "code",
      "execution_count": null,
      "metadata": {
        "id": "_T7j6anmecBY"
      },
      "outputs": [],
      "source": [
        "append_to_file(\"my_file.txt\", \"This is another appended line.\\n\")"
      ]
    },
    {
      "cell_type": "code",
      "execution_count": null,
      "metadata": {
        "colab": {
          "base_uri": "https://localhost:8080/"
        },
        "id": "Gjy0NeEBHhCj",
        "outputId": "4a89b21d-6102-433e-91f5-c234c191ac8b"
      },
      "outputs": [
        {
          "name": "stdout",
          "output_type": "stream",
          "text": [
            "Error: Key 'c' not found in the dictionary.\n"
          ]
        }
      ],
      "source": [
        "#Write a Python program that uses a try-except block to handle an error when attempting to access a\n",
        "#dictionary key that doesn't existF\n",
        "my_dict = {\"a\": 1, \"b\": 2}\n",
        "\n",
        "try:\n",
        "  value = my_dict[\"c\"]\n",
        "  print(value)\n",
        "except KeyError:\n",
        "  print(\"Error: Key 'c' not found in the dictionary.\")"
      ]
    },
    {
      "cell_type": "code",
      "execution_count": null,
      "metadata": {
        "colab": {
          "base_uri": "https://localhost:8080/"
        },
        "id": "6mVOnkXiHhEy",
        "outputId": "5c4889f9-3f94-4434-cde6-09d9d9e3d3cf"
      },
      "outputs": [
        {
          "name": "stdout",
          "output_type": "stream",
          "text": [
            "Error: Division by zero.\n"
          ]
        }
      ],
      "source": [
        "#Write a program that demonstrates using multiple except blocks to handle different types of exceptions\n",
        "try:\n",
        "  result = 10 / 0\n",
        "except ZeroDivisionError:\n",
        "  print(\"Error: Division by zero.\")\n",
        "except TypeError:\n",
        "  print(\"Error: Type error.\")\n",
        "except Exception as e:\n",
        "  print(f\"An unexpected error occurred: {e}\")"
      ]
    },
    {
      "cell_type": "code",
      "execution_count": null,
      "metadata": {
        "id": "eSrdHkRGHhHB"
      },
      "outputs": [],
      "source": [
        "# How would you check if a file exists before attempting to read it in Python\n",
        "\n",
        "import os\n",
        "\n",
        "def read_file_if_exists(filepath):\n",
        "    if os.path.exists(filepath):\n",
        "        try:\n",
        "            with open(filepath, 'r') as file:\n",
        "                contents = file.read()\n",
        "                print(contents)\n",
        "        except Exception as e:\n",
        "            print(f\"An error occurred while reading the file: {e}\")\n",
        "    else:\n",
        "        print(f\"Error: File '{filepath}' not found.\")"
      ]
    },
    {
      "cell_type": "code",
      "execution_count": null,
      "metadata": {
        "id": "FvKVOeSgHhJa"
      },
      "outputs": [],
      "source": [
        "#Write a program that uses the logging module to log both informational and error messages\n",
        "import logging\n",
        "\n",
        "def my_function():\n",
        "\n",
        "    logging.basicConfig(filename='my_app.log', level=logging.INFO,\n",
        "                        format='%(asctime)s - %(levelname)s - %(message)s')\n",
        "\n",
        "    logging.info(\"This is an informational message.\")\n",
        "\n",
        "\n",
        "    try:\n",
        "        result = 10 / 0\n",
        "    except ZeroDivisionError:\n",
        "        logging.error(\"An error occurred: Division by zero\")\n",
        "\n",
        "\n",
        "    logging.info(\"Program execution continues...\")\n",
        "\n"
      ]
    },
    {
      "cell_type": "code",
      "execution_count": null,
      "metadata": {
        "colab": {
          "base_uri": "https://localhost:8080/"
        },
        "id": "wU_VefXBfWjN",
        "outputId": "ebc9dff7-e08e-4613-88df-076dd0589e09"
      },
      "outputs": [
        {
          "name": "stderr",
          "output_type": "stream",
          "text": [
            "ERROR:root:An error occurred: Division by zero\n"
          ]
        }
      ],
      "source": [
        "my_function()"
      ]
    },
    {
      "cell_type": "code",
      "execution_count": null,
      "metadata": {
        "colab": {
          "background_save": true
        },
        "id": "7oDHnl6qHhLs"
      },
      "outputs": [],
      "source": [
        "#Write a Python program that prints the content of a file and handles the case when the file is empty\n"
      ]
    },
    {
      "cell_type": "code",
      "execution_count": null,
      "metadata": {
        "id": "_w1jx_wifJzh"
      },
      "outputs": [],
      "source": [
        "# prompt: #Write a Python program that prints the content of a file and handles the case when the file is emptyF\n",
        "\n",
        "import os\n",
        "\n",
        "def print_file_content(filepath):\n",
        "    \"\"\"Prints the content of a file, handling empty files.\"\"\"\n",
        "    try:\n",
        "        with open(filepath, 'r') as file:\n",
        "            contents = file.read()\n",
        "            if not contents:\n",
        "                print(\"The file is empty.\")\n",
        "            else:\n",
        "                print(contents)\n",
        "    except FileNotFoundError:\n",
        "        print(f\"Error: File '{filepath}' not found.\")\n",
        "    except Exception as e:\n",
        "        print(f\"An error occurred: {e}\")\n",
        "\n",
        "# Example usage\n",
        "print_file_content(\"filename.txt\")  # Replace with the actual file path\n"
      ]
    },
    {
      "cell_type": "code",
      "execution_count": null,
      "metadata": {
        "id": "ReBTwtjhHhOF"
      },
      "outputs": [],
      "source": [
        "# Demonstrate how to use memory profiling to check the memory usage of a small programF\n"
      ]
    },
    {
      "cell_type": "code",
      "execution_count": null,
      "metadata": {
        "id": "riUYpQzRHhQa"
      },
      "outputs": [],
      "source": [
        "#Write a Python program to create and write a list of numbers to a file, one number per lineF"
      ]
    },
    {
      "cell_type": "code",
      "execution_count": null,
      "metadata": {
        "id": "ZfgfV37HHhSw"
      },
      "outputs": [],
      "source": [
        "#F How would you implement a basic logging setup that logs to a file with rotation after 1MB"
      ]
    },
    {
      "cell_type": "code",
      "execution_count": null,
      "metadata": {
        "id": "9WREcl5THhVP"
      },
      "outputs": [],
      "source": [
        "#Write a program that handles both IndexError and KeyError using a try-except blockF"
      ]
    },
    {
      "cell_type": "code",
      "execution_count": null,
      "metadata": {
        "id": "g9il3DkCHhYK"
      },
      "outputs": [],
      "source": [
        "# How would you open a file and read its contents using a context manager in Python\n"
      ]
    },
    {
      "cell_type": "code",
      "execution_count": null,
      "metadata": {
        "id": "9sMU1XAeHhae"
      },
      "outputs": [],
      "source": [
        "#Write a Python program that reads a file and prints the number of occurrences of a specific wordF\n"
      ]
    },
    {
      "cell_type": "code",
      "execution_count": null,
      "metadata": {
        "id": "SPYYbYfoHhc7"
      },
      "outputs": [],
      "source": [
        "#How can you check if a file is empty before attempting to read its contents"
      ]
    },
    {
      "cell_type": "code",
      "execution_count": null,
      "metadata": {
        "id": "18isI30_Hhfc"
      },
      "outputs": [],
      "source": [
        "#Write a Python program that writes to a log file when an error occurs during file handling."
      ]
    },
    {
      "cell_type": "code",
      "execution_count": null,
      "metadata": {
        "id": "N5U7vjzBHhh9"
      },
      "outputs": [],
      "source": []
    },
    {
      "cell_type": "code",
      "execution_count": null,
      "metadata": {
        "id": "V4mbxeFZHhld"
      },
      "outputs": [],
      "source": []
    }
  ],
  "metadata": {
    "colab": {
      "provenance": []
    },
    "kernelspec": {
      "display_name": "Python 3",
      "name": "python3"
    },
    "language_info": {
      "name": "python"
    }
  },
  "nbformat": 4,
  "nbformat_minor": 0
}